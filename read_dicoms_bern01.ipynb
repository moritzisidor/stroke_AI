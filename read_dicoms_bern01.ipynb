{
 "cells": [
  {
   "cell_type": "code",
   "execution_count": null,
   "metadata": {},
   "outputs": [],
   "source": [
    "import tensorflow as tf\n",
    "print(tf.__version__)"
   ]
  },
  {
   "cell_type": "code",
   "execution_count": null,
   "metadata": {},
   "outputs": [],
   "source": [
    "import pydicom\n",
    "import os\n",
    "import numpy as np\n",
    "from matplotlib import pyplot, cm"
   ]
  },
  {
   "cell_type": "markdown",
   "metadata": {},
   "source": [
    "#### Find all dicom files"
   ]
  },
  {
   "cell_type": "code",
   "execution_count": null,
   "metadata": {},
   "outputs": [],
   "source": [
    "# Get the paths to the dicom files\n",
    "path_to_dicom_files = \"D:\\AIM_EXPORT\"\n",
    "dcm_files = []\n",
    "for root, dirs, files in os.walk(path_to_dicom_files): # go to the files\n",
    "    for filename in files:\n",
    "        if \".dcm\" in filename.lower(): # check if the file is a dicom file\n",
    "            dcm_files.append(os.path.join(root,filename)) # save the complete path to the dicom files"
   ]
  },
  {
   "cell_type": "code",
   "execution_count": null,
   "metadata": {},
   "outputs": [],
   "source": [
    "len(dcm_files)"
   ]
  },
  {
   "cell_type": "code",
   "execution_count": null,
   "metadata": {},
   "outputs": [],
   "source": [
    "dcm_files[1:5]"
   ]
  },
  {
   "cell_type": "code",
   "execution_count": null,
   "metadata": {},
   "outputs": [],
   "source": [
    "# Read one file\n",
    "img = pydicom.read_file(dcm_files[101])"
   ]
  },
  {
   "cell_type": "code",
   "execution_count": null,
   "metadata": {},
   "outputs": [],
   "source": [
    "img\n",
    "\n",
    "# Access attributes of the dicom file: img.PatientID\n",
    "# Patient ID: PatientID\n",
    "# Series Description: SeriesDescription (Which sequence: DWI, FLAIR etc)\n",
    "# Series Number: SeriesNumber\n",
    "# Instance Number: InstanceNumber\n",
    "# Rows: Rows (Number of pixels)\n",
    "# Columns: Columns (Number of pixels)\n",
    "# Pixel Data: PixelData (Array with the image)"
   ]
  },
  {
   "cell_type": "code",
   "execution_count": null,
   "metadata": {},
   "outputs": [],
   "source": [
    "# Find the names of the sequences\n",
    "\n",
    "# descr = []\n",
    "# for file in dcm_files[:10000]:\n",
    "#     # read the image\n",
    "#     img = pydicom.read_file(file)\n",
    "#     if(hasattr(img,\"SeriesDescription\")): # check if attribute SeriesDescription even exists\n",
    "#         descr.append(img.SeriesDescription)\n",
    "# descr\n",
    "# array(['<MIP Range>', '<MIP Range[1]>', '<MIP Range[2]>',\n",
    "#        'ADC_OLEA_ANALYSIS', 'ADC_OLEA_COMPUTED', 'CBF_RGB', 'CBV_RGB',\n",
    "#        'DWI_OLEA_COMPUTED', 'MIP Booster', 'MIP TOF 1', 'MIP TOF 2',\n",
    "#        'MTT_OLEA_ANALYSIS', 'MTT_OLEA_COMPUTED', 'MTT_RGB',\n",
    "#        'NOVA_MOVE_OLEA_COMPUTED', 'OLEA_STUDY_SETTINGS',\n",
    "#        'OVERLAY_OLEA_ANALYSIS', 'PERFUSION_OLEA_COMPUTED',\n",
    "#        'RESULTS_OLEA_ANALYSIS', 'SEGMENTATION_OLEA_COMPUTED',\n",
    "#        'SURFACE_SEGMENTATION_OLEA_COMPUTED', 'SWI_Images',\n",
    "#        'TMAX_OLEA_ANALYSIS', 'TMAX_OLEA_COMPUTED', 'TOF_3D_multi-slab',\n",
    "#        'TTP_OLEA_ANALYSIS', 'TTP_OLEA_COMPUTED', 'TTP_RGB',\n",
    "#        'Test_Bolus_cor', 'Testbolus_cor', 'Tirm_tra_fs_TI_2440',\n",
    "#        'Tirm_tra_fs_TI_2500', 'ep2d_diff_3scan_trace_p2',\n",
    "#        'ep2d_diff_3scan_trace_p2_ADC', 'ep2d_diff_M128_b0_1000_DIN',\n",
    "#        'ep2d_diff_M128_b0_1000_DIN_ADC', 'ep2d_perf_p2',\n",
    "#        'ep2d_perf_p2_GBP', 'ep2d_perf_p2_PBP', 'ep2d_perf_p2_TTP',\n",
    "#        'fl3d-cor', 'fl3d-cor_SUB', 'fl3d-cor_SUB_MIP_COR', 'localizer',\n",
    "#        'mIP_Images(SW)', 'rBF_OLEA_ANALYSIS', 'rBF_OLEA_COMPUTED',\n",
    "#        'rBV_OLEA_ANALYSIS', 'rBV_OLEA_COMPUTED', 't1_fl2d_tra',\n",
    "#        't1_se_r_tra_KM', 'tMIP_OLEA_COMPUTED', 'vessels_neck_MIP_SAG'],\n",
    "#       dtype='<U34')"
   ]
  },
  {
   "cell_type": "code",
   "execution_count": null,
   "metadata": {},
   "outputs": [],
   "source": [
    "seq_of_interest = [\"ep2d_diff_M128_b0_1000_DIN\",\"ep2d_diff_M128_b0_1000_DIN_ADC\", # DWI und ADC images (different names)\n",
    "                   \"ep2d_diff_3scan_trace_p2\",\"ep2d_diff_3scan_trace_p2_ADC\",\n",
    "                   \"resolve_3scan_trace_tra_176_p2_TRACEW\",\"resolve_3scan_trace_tra_176_p2_ADC\",\n",
    "                   \"ep2d_diff_4scan_trace_p2_s2_inkl.Neckcoil_TRACEW\",\"ep2d_diff_4scan_trace_p2_s2_inkl.Neckcoil_ADC\",\n",
    "                   \"ep2d_diff_3scan_trace_p3\",\"ep2d_diff_3scan_trace_p3_ADC\",\n",
    "                   \"ep2d_diffusion\", \"ep2d_diffusion_ADC\",\n",
    "                   # OLEA perfusion maps: tMIP nicht vorhanden\n",
    "                   # Haben wir bisher angeschaut --> nehme die Karten\n",
    "                   \"MTT_OLEA_ANALYSIS\",\"TMAX_OLEA_ANALYSIS\",\"TTP_OLEA_ANALYSIS\", \n",
    "                   \"rBF_OLEA_ANALYSIS\",\"rBV_OLEA_ANALYSIS\"] #,\n",
    "                   # OLEA perfusion maps (schwarz weiss)\n",
    "                   # Alte Karten\n",
    "                   #\"MTT_OLEA_COMPUTED\",\"TMAX_OLEA_COMPUTED\",\"TTP_OLEA_COMPUTED\",\n",
    "                   #\"rBF_OLEA_COMPUTED\",\"rBV_OLEA_COMPUTED\",\"tMIP_OLEA_COMPUTED\"]"
   ]
  },
  {
   "cell_type": "code",
   "execution_count": null,
   "metadata": {
    "scrolled": true
   },
   "outputs": [],
   "source": [
    "seq = np.empty((len(dcm_files)), dtype=np.object)\n",
    "p_id = np.empty((len(dcm_files)), dtype=np.object)\n",
    "rows = np.empty((len(dcm_files)), dtype=np.object)\n",
    "cols = np.empty((len(dcm_files)), dtype=np.object)\n",
    "instance_no = np.empty((len(dcm_files)), dtype=np.object)\n",
    "path = np.empty((len(dcm_files)), dtype=np.object)\n",
    "\n",
    "j=0\n",
    "for i,file in enumerate(dcm_files): \n",
    "    print(i)\n",
    "    # read the dicom file\n",
    "    img=pydicom.read_file(file)\n",
    "    if(hasattr(img, 'SeriesDescription')): #check if the attribute SeriesDescription is available\n",
    "        if(img.SeriesDescription in seq_of_interest): # check if it is a DWI, ADC, etc.\n",
    "            path[j]=file\n",
    "            seq[j]=img.SeriesDescription\n",
    "            # Patient ID: PatientID\n",
    "            if(hasattr(img, 'PatientID')):\n",
    "                p_id[j]=img.PatientID\n",
    "            if(hasattr(img, 'Rows')):\n",
    "                rows[j]=img.Rows\n",
    "            if(hasattr(img, 'Columns')):\n",
    "                cols[j]=img.Columns\n",
    "            if(hasattr(img, 'InstanceNumber')):\n",
    "                instance_no[j]=img.InstanceNumber\n",
    "            j=j+1"
   ]
  },
  {
   "cell_type": "code",
   "execution_count": null,
   "metadata": {},
   "outputs": [],
   "source": [
    "import pandas as pd\n",
    "dat = pd.DataFrame({\"path\":path,\"sequence\":seq,\"p_id\":p_id,\"rows\":rows,\"columns\":cols,\n",
    "                    \"instance_no\":instance_no})"
   ]
  },
  {
   "cell_type": "code",
   "execution_count": null,
   "metadata": {
    "scrolled": true
   },
   "outputs": [],
   "source": [
    "dat.dropna(axis=0, # rows\n",
    "           how='all', # complete row has to be null\n",
    "           thresh=None, \n",
    "           subset=None, \n",
    "           inplace=False) # changes in dataframe are only made if this is set to true\n",
    "# Looks good"
   ]
  },
  {
   "cell_type": "code",
   "execution_count": null,
   "metadata": {},
   "outputs": [],
   "source": [
    "dat.dropna(axis=0, # rows\n",
    "           how='all', # complete row has to be null\n",
    "           thresh=None, \n",
    "           subset=None, \n",
    "           inplace=True) # changes in dataframe are only made if this is set to true"
   ]
  },
  {
   "cell_type": "code",
   "execution_count": null,
   "metadata": {},
   "outputs": [],
   "source": [
    "dat.to_csv(\"C:/Users/hezo/Dropbox/PhD/Stroke/Stroke_perfusion\" + \"/data/data_sept_2019.csv\", index=False)"
   ]
  },
  {
   "cell_type": "code",
   "execution_count": null,
   "metadata": {},
   "outputs": [],
   "source": [
    "dat.to_csv(\"C:/Users/hezo/Dropbox/PhD/Stroke/Stroke_perfusion\" + \"/data_march_2019.csv\", index=False)"
   ]
  },
  {
   "cell_type": "markdown",
   "metadata": {},
   "source": [
    "### Check data"
   ]
  },
  {
   "cell_type": "code",
   "execution_count": null,
   "metadata": {},
   "outputs": [],
   "source": [
    "import pandas as pd\n",
    "dat = pd.read_csv(\"C:/Users/hezo/Dropbox/PhD/Stroke/Stroke_perfusion/data/data_march_2019.csv\", encoding='latin-1')"
   ]
  },
  {
   "cell_type": "code",
   "execution_count": null,
   "metadata": {},
   "outputs": [],
   "source": [
    "dat"
   ]
  }
 ],
 "metadata": {
  "kernelspec": {
   "display_name": "Python 3",
   "language": "python",
   "name": "python3"
  },
  "language_info": {
   "codemirror_mode": {
    "name": "ipython",
    "version": 3
   },
   "file_extension": ".py",
   "mimetype": "text/x-python",
   "name": "python",
   "nbconvert_exporter": "python",
   "pygments_lexer": "ipython3",
   "version": "3.6.9"
  }
 },
 "nbformat": 4,
 "nbformat_minor": 2
}
