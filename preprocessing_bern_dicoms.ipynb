{
 "cells": [
  {
   "cell_type": "markdown",
   "metadata": {},
   "source": [
    "# Load dependencies\n",
    "- Change oversample indices"
   ]
  },
  {
   "cell_type": "code",
   "execution_count": null,
   "metadata": {
    "scrolled": true
   },
   "outputs": [],
   "source": [
    "#!python -m pip install -U SimpleITK\n",
    "#!python -m pip install -U scikit-image"
   ]
  },
  {
   "cell_type": "code",
   "execution_count": null,
   "metadata": {},
   "outputs": [],
   "source": [
    "from __future__ import print_function\n",
    "\n",
    "import SimpleITK as sitk\n",
    "import sys\n",
    "import os\n",
    "import h5py\n",
    "import pandas as pd\n",
    "import numpy as np\n",
    "from matplotlib import pyplot as plt\n",
    "from sklearn.model_selection import train_test_split\n",
    "from scipy import ndimage\n",
    "#from medpy.filter import IntensityRangeStandardization\n",
    "from skimage import exposure\n",
    "from scipy import ndimage\n",
    "\n",
    "from keras.utils import to_categorical\n",
    "\n",
    "from functions.plot_slices import plot_slices"
   ]
  },
  {
   "cell_type": "code",
   "execution_count": null,
   "metadata": {
    "scrolled": false
   },
   "outputs": [],
   "source": [
    "# Define the path + output path:\n",
    "DIR = \"/tf/notebooks/\""
   ]
  },
  {
   "cell_type": "markdown",
   "metadata": {},
   "source": [
    "# Import data"
   ]
  },
  {
   "cell_type": "markdown",
   "metadata": {},
   "source": [
    "### Clinical and patient data"
   ]
  },
  {
   "cell_type": "code",
   "execution_count": null,
   "metadata": {},
   "outputs": [],
   "source": [
    "dat = pd.read_csv(DIR + \"/hezo/stroke_bern/data/data_bern_25_11_2020_dwi.csv\")"
   ]
  },
  {
   "cell_type": "code",
   "execution_count": null,
   "metadata": {
    "scrolled": true
   },
   "outputs": [],
   "source": [
    "# Size of the dataframe: same as the images\n",
    "dat.shape"
   ]
  },
  {
   "cell_type": "code",
   "execution_count": null,
   "metadata": {},
   "outputs": [],
   "source": [
    "# define binary mRS\n",
    "dat[\"mrs_3months_binary\"] = 0\n",
    "dat.loc[dat.mrs_3months <= 2, \"mrs_3months_binary\"] = 1"
   ]
  },
  {
   "cell_type": "code",
   "execution_count": null,
   "metadata": {},
   "outputs": [],
   "source": [
    "plt.hist(dat.mrs_3months, bins = 7)"
   ]
  },
  {
   "cell_type": "code",
   "execution_count": null,
   "metadata": {
    "scrolled": true
   },
   "outputs": [],
   "source": [
    "plt.hist(dat.mrs_3months_binary, bins = 2)"
   ]
  },
  {
   "cell_type": "code",
   "execution_count": null,
   "metadata": {},
   "outputs": [],
   "source": [
    "# simple imputation: replace all missing values with the mode of the column\n",
    "for column in dat.columns:\n",
    "    dat[column].fillna(dat[column].mode()[0], inplace=True)"
   ]
  },
  {
   "cell_type": "code",
   "execution_count": null,
   "metadata": {},
   "outputs": [],
   "source": [
    "dat.columns"
   ]
  },
  {
   "cell_type": "code",
   "execution_count": null,
   "metadata": {},
   "outputs": [],
   "source": [
    "# tabular data for the prediction\n",
    "# to make the values smaller we consider:\n",
    "# a 10 unit change in age\n",
    "# a 10 unit change in NIHSS\n",
    "# a 20 unit change in BP\n",
    "# a 120 (2h) change in time_to_imaging\n",
    "X_tab = np.array([dat.age/10, dat.sex, dat.independent_pre_stroke, dat.nihss_bl/10, \n",
    "                  dat.sys_bloodpressure_bl/20, dat.time_to_imaging/120, dat.rf_hypertonia, dat.rf_smoker]).T\n",
    "X_tab.shape"
   ]
  },
  {
   "cell_type": "code",
   "execution_count": null,
   "metadata": {},
   "outputs": [],
   "source": [
    "Y = np.array(dat.mrs_3months_binary)\n",
    "print(Y.shape)\n",
    "Y = to_categorical(Y)\n",
    "print(Y.shape)"
   ]
  },
  {
   "cell_type": "markdown",
   "metadata": {},
   "source": [
    "### Import images"
   ]
  },
  {
   "cell_type": "code",
   "execution_count": null,
   "metadata": {},
   "outputs": [],
   "source": [
    "with h5py.File(DIR + \"/hezo/stroke_bern/data/data_bern_25_11_2020.h5\", \"r\") as h5:\n",
    "    # Image matrix for tmax sequence\n",
    "    X_dwi = h5[\"X_dwi\"][:]\n",
    "    X_adc = h5[\"X_adc\"][:]\n",
    "    X_cbv = h5[\"X_cbv\"][:]\n",
    "    X_cbf = h5[\"X_cbf\"][:]\n",
    "    X_mtt = h5[\"X_mtt\"][:]\n",
    "    X_ttp = h5[\"X_ttp\"][:]\n",
    "    X_tmax = h5[\"X_tmax\"][:]"
   ]
  },
  {
   "cell_type": "code",
   "execution_count": null,
   "metadata": {
    "scrolled": true
   },
   "outputs": [],
   "source": [
    "print(X_dwi.shape, X_adc.shape, X_cbv.shape, X_cbf.shape, X_mtt.shape, X_ttp.shape, X_tmax.shape)"
   ]
  },
  {
   "cell_type": "code",
   "execution_count": null,
   "metadata": {
    "scrolled": true
   },
   "outputs": [],
   "source": [
    "print(X_dwi.min(), X_adc.min(), X_cbv.min(), X_cbf.min(), X_mtt.min(), X_ttp.min(), X_tmax.min())"
   ]
  },
  {
   "cell_type": "code",
   "execution_count": null,
   "metadata": {},
   "outputs": [],
   "source": [
    "print(X_dwi.max(), X_adc.max(), X_cbv.max(), X_cbf.max(), X_mtt.max(), X_ttp.max(), X_tmax.max())"
   ]
  },
  {
   "cell_type": "code",
   "execution_count": null,
   "metadata": {
    "scrolled": true
   },
   "outputs": [],
   "source": [
    "plot_slices(X_dwi[0], dat.loc[0,:], \"axial\", modality = \"DWI\")"
   ]
  },
  {
   "cell_type": "code",
   "execution_count": null,
   "metadata": {
    "scrolled": true
   },
   "outputs": [],
   "source": [
    "plot_slices(X_adc[0], dat.loc[0,:], \"axial\", modality = \"DWI\")"
   ]
  },
  {
   "cell_type": "code",
   "execution_count": null,
   "metadata": {
    "scrolled": true
   },
   "outputs": [],
   "source": [
    "plot_slices(X_cbv[0], dat.loc[0,:], \"axial\")"
   ]
  },
  {
   "cell_type": "code",
   "execution_count": null,
   "metadata": {
    "scrolled": true
   },
   "outputs": [],
   "source": [
    "plot_slices(X_cbf[0], dat.loc[0,:], \"axial\")"
   ]
  },
  {
   "cell_type": "code",
   "execution_count": null,
   "metadata": {
    "scrolled": true
   },
   "outputs": [],
   "source": [
    "plot_slices(X_mtt[0], dat.loc[0,:], \"axial\")"
   ]
  },
  {
   "cell_type": "code",
   "execution_count": null,
   "metadata": {
    "scrolled": true
   },
   "outputs": [],
   "source": [
    "plot_slices(X_ttp[0], dat.loc[0,:], \"axial\")"
   ]
  },
  {
   "cell_type": "code",
   "execution_count": null,
   "metadata": {
    "scrolled": true
   },
   "outputs": [],
   "source": [
    "plot_slices(X_tmax[0], dat.loc[0,:], \"axial\")"
   ]
  },
  {
   "cell_type": "code",
   "execution_count": null,
   "metadata": {
    "scrolled": true
   },
   "outputs": [],
   "source": [
    "#k = 1\n",
    "#X_pat = X_dwi[k,:,:,:,0]\n",
    "#Y_img_pat = Y[k]\n",
    "#print(X_pat.shape, Y_img_pat.shape)\n",
    "#\n",
    "#fig = plt.figure(figsize = (20, 20)) # total figure size (including all subplots)\n",
    "#columns = 6\n",
    "#rows = 5\n",
    "#fig_all = []\n",
    "#for i in range(1, columns*rows):\n",
    "#    img = X_pat[:,:,i]\n",
    "#    fig_all.append(fig.add_subplot(rows, columns, i))\n",
    "#    fig_all[-1].set_title(Y_img_pat[1])\n",
    "#    plt.hist(img, range = [0, 255])\n",
    "#plt.show()"
   ]
  },
  {
   "cell_type": "markdown",
   "metadata": {},
   "source": [
    "### Resample to 1x1x1mm per voxel"
   ]
  },
  {
   "cell_type": "code",
   "execution_count": null,
   "metadata": {},
   "outputs": [],
   "source": [
    "# all(dat.pixel_spacing_x == dat.pixel_spacing_y)"
   ]
  },
  {
   "cell_type": "code",
   "execution_count": null,
   "metadata": {
    "scrolled": true
   },
   "outputs": [],
   "source": [
    "# def resample(image, slicethickness, pixelspacing, new_spacing = [1,1,1]):\n",
    "#     # Determine current pixel spacing\n",
    "#     spacing = np.array((slicethickness, slicethickness, pixelspacing))\n",
    "# \n",
    "#     resize_factor = spacing / new_spacing\n",
    "#     new_real_shape = image.shape * resize_factor\n",
    "#     new_shape = np.round(new_real_shape)\n",
    "#     real_resize_factor = new_shape / image.shape\n",
    "#     new_spacing = spacing / real_resize_factor\n",
    "#     \n",
    "#     image = ndimage.interpolation.zoom(image, real_resize_factor)\n",
    "#     \n",
    "#     return image, new_spacing\n",
    "# \n",
    "# i = 0\n",
    "# img = X[0,:,:,:,0]\n",
    "# print(\"Shape before resampling: \", img.shape)\n",
    "# img_resamp, spacing = resample(img, dat.iloc[i].pixel_spacing_x, dat.iloc[i].pixel_spacing_x, [1,1,1])\n",
    "# print(\"Shape after resampling: \", img_resamp.shape)"
   ]
  },
  {
   "cell_type": "code",
   "execution_count": null,
   "metadata": {
    "scrolled": true
   },
   "outputs": [],
   "source": [
    "# plot_slices(img_resamp.reshape((153,153,77,1)), dat.loc[0,:], \"axial\", modality = \"DWI\")"
   ]
  },
  {
   "cell_type": "markdown",
   "metadata": {},
   "source": [
    "# Preprocessing\n",
    "Images have different pixel intensities even within one patient, i.e. the same pixel intensities do not have the same meaning in terms of representing the same tissue/stroke"
   ]
  },
  {
   "cell_type": "markdown",
   "metadata": {},
   "source": [
    "### Remove artefacts"
   ]
  },
  {
   "cell_type": "code",
   "execution_count": null,
   "metadata": {
    "scrolled": true
   },
   "outputs": [],
   "source": [
    "# # remove the first and last two images of the patient\n",
    "# # Sometimes the images on the botton/top look confusing and the strokes are not only on them!\n",
    "# print(X_dwi.shape, X_adc.shape, X_cbv.shape, X_cbf.shape, X_mtt.shape, X_ttp.shape, X_tmax.shape)\n",
    "# X_dwi = X_dwi[:,:,:,2:62,:]\n",
    "# X_adc = X_adc[:,:,:,2:62,:]\n",
    "# X_cbv = X_cbv[:,:,:,2:62,:]\n",
    "# X_cbf = X_cbf[:,:,:,2:62,:]\n",
    "# X_mtt = X_mtt[:,:,:,2:62,:]\n",
    "# X_ttp = X_ttp[:,:,:,2:62,:]\n",
    "# X_tmax = X_tmax[:,:,:,2:62,:]\n",
    "# print(X_dwi.shape, X_adc.shape, X_cbv.shape, X_cbf.shape, X_mtt.shape, X_ttp.shape, X_tmax.shape)"
   ]
  },
  {
   "cell_type": "code",
   "execution_count": null,
   "metadata": {},
   "outputs": [],
   "source": [
    "# # Consider two images with different intesnities: appearance is different but histograms match now!\n",
    "# print(X.shape)\n",
    "# img11 = X[0,:,:,9]\n",
    "# img12 = X[0,:,:,10]\n",
    "# \n",
    "# fig, axs = plt.subplots(2, 2)\n",
    "# axs[0,0].imshow(img11, cmap = \"gray\")\n",
    "# axs[0,1].imshow(img12, cmap = \"gray\")\n",
    "# _ = axs[1,0].hist(img11.flatten(), range=[0,600])\n",
    "# _ = axs[1,1].hist(img12.flatten(), range=[0,600])"
   ]
  },
  {
   "cell_type": "markdown",
   "metadata": {},
   "source": [
    "### Normalization: DWI and ADC"
   ]
  },
  {
   "cell_type": "code",
   "execution_count": null,
   "metadata": {},
   "outputs": [],
   "source": [
    "# normalize intensities to have pixel values between 0 and 255\n",
    "def normalize(img):\n",
    "    lmin = float(img.min())\n",
    "    lmax = float(img.max())\n",
    "    return np.floor((img - lmin)/(lmax - lmin)*255)"
   ]
  },
  {
   "cell_type": "code",
   "execution_count": null,
   "metadata": {},
   "outputs": [],
   "source": [
    "# checked also for the perfusion maps, already done!\n",
    "X_dwi_norm = np.empty_like(X_dwi)\n",
    "X_adc_norm = np.empty_like(X_adc)\n",
    "for i in range(X_dwi.shape[0]):\n",
    "    X_dwi_norm[i] = normalize(X_dwi[i])\n",
    "    X_adc_norm[i] = normalize(X_adc[i])"
   ]
  },
  {
   "cell_type": "code",
   "execution_count": null,
   "metadata": {},
   "outputs": [],
   "source": [
    "print(X_dwi_norm.shape, X_dwi_norm.min(), X_dwi_norm.max())\n",
    "print(X_adc_norm.shape, X_adc_norm.min(), X_adc_norm.max())"
   ]
  },
  {
   "cell_type": "code",
   "execution_count": null,
   "metadata": {
    "scrolled": true
   },
   "outputs": [],
   "source": [
    "plot_slices(X_dwi[0], dat.loc[0,:], \"axial\", modality = \"DWI\")"
   ]
  },
  {
   "cell_type": "code",
   "execution_count": null,
   "metadata": {
    "scrolled": true
   },
   "outputs": [],
   "source": [
    "plot_slices(X_adc[0], dat.loc[0,:], \"axial\", modality = \"DWI\")"
   ]
  },
  {
   "cell_type": "code",
   "execution_count": null,
   "metadata": {
    "scrolled": true
   },
   "outputs": [],
   "source": [
    "# Consider two images with different intensities: nur Darstellungsproblem, Verteilung sieht gut aus\n",
    "print(X_dwi_norm.shape)\n",
    "img11 = X_dwi_norm[0,:,:,22,0]\n",
    "img12 = X_dwi_norm[0,:,:,23,0]\n",
    "\n",
    "fig, axs = plt.subplots(2, 2)\n",
    "axs[0,0].imshow(img11, cmap = \"gray\")\n",
    "axs[0,1].imshow(img12, cmap = \"gray\")\n",
    "_ = axs[1,0].hist(img11.flatten(), range=[0,255])\n",
    "_ = axs[1,1].hist(img12.flatten(), range=[0,255])"
   ]
  },
  {
   "cell_type": "markdown",
   "metadata": {},
   "source": [
    "### Intensity normalization"
   ]
  },
  {
   "cell_type": "markdown",
   "metadata": {},
   "source": [
    "#### 1. Z-score normalization based on brain mask (per patient)\n",
    "https://github.com/deepmedic/deepmedic/issues/72"
   ]
  },
  {
   "cell_type": "markdown",
   "metadata": {},
   "source": [
    "#### DWI + ADC"
   ]
  },
  {
   "cell_type": "code",
   "execution_count": null,
   "metadata": {
    "scrolled": false
   },
   "outputs": [],
   "source": [
    "X_pat = X_dwi_norm[0,:,:,:,0]\n",
    "j = 0\n",
    "i = sitk.GetImageFromArray(X_pat[:,:,j], isVector = False)\n",
    "m = sitk.OtsuThreshold(i, 0, 255, 200)\n",
    "image = sitk.GetArrayViewFromImage(i)[:,:]\n",
    "mask = sitk.GetArrayViewFromImage(m)[:,:]\n",
    "print(\"Value of mask: \", np.unique(mask, return_counts=True))\n",
    "fig, axs = plt.subplots(1, 2)\n",
    "axs[0].imshow(image, cmap = \"gray\")\n",
    "axs[1].imshow(mask, cmap = \"gray\")"
   ]
  },
  {
   "cell_type": "code",
   "execution_count": null,
   "metadata": {},
   "outputs": [],
   "source": [
    "# mask is represented by white pixels\n",
    "mask_idx = np.where(mask == 255)\n",
    "image_mask = image[mask_idx]\n",
    "# exclude low and high intensity pixel values for mean and std calculation\n",
    "image_maskp = image_mask[(image_mask >= np.percentile(image_mask, 5)) & \n",
    "                         (image_mask <= np.percentile(image_mask, 95))]\n",
    "# get mean and std\n",
    "image_mask_mean = image_maskp.mean()\n",
    "image_mask_std = image_maskp.std()\n",
    "print(image_mask_mean, image_mask_std)\n",
    "image_new = (image - image_mask_mean)/image_mask_std\n",
    "fig, axs = plt.subplots(1, 2)\n",
    "axs[0].imshow(image, cmap = \"gray\")\n",
    "axs[1].imshow(image_new, cmap = \"gray\")"
   ]
  },
  {
   "cell_type": "code",
   "execution_count": null,
   "metadata": {},
   "outputs": [],
   "source": [
    "# # z score based on brain mask: per image\n",
    "# def z_score_normalization(X, xmin, xmax):\n",
    "#     # X: [xdim, ydim, zdim]\n",
    "#     # xmin, xmax: pixel intensities\n",
    "#     X_norm = np.empty((X.shape[0], X.shape[1], X.shape[2]))\n",
    "#     for j in range(X_norm.shape[2]):\n",
    "#         i = sitk.GetImageFromArray(X[:,:,j], isVector = False)\n",
    "#         m = sitk.OtsuThreshold(i, xmin, xmax, 200)\n",
    "#         image = sitk.GetArrayViewFromImage(i)[:,:]\n",
    "#         mask = sitk.GetArrayViewFromImage(m)[:,:]\n",
    "#         # mask is represented by white pixels\n",
    "#         mask_idx = np.where(mask == mask.max())\n",
    "#         if(np.percentile(image, 98) == 0): # in case of black images\n",
    "#             # print(\"black image: \", j)\n",
    "#             image_new = image\n",
    "#         else:\n",
    "#             image_mask = image[mask_idx]\n",
    "#             # exclude low and high intensity values\n",
    "#             image_maskp = image_mask[(image_mask >= np.percentile(image_mask, 5)) & \n",
    "#                                      (image_mask <= np.percentile(image_mask, 95))]\n",
    "#             # get mean and std\n",
    "#             image_mask_mean = image_maskp.mean()\n",
    "#             image_mask_std = image_maskp.std()\n",
    "#             image_new = (image - image_mask_mean) / image_mask_std\n",
    "#             if(image_mask_std == 0):\n",
    "#                 print(\"std 0 in image: \", j)\n",
    "#             #print(image_mask_mean, image_mask_std)\n",
    "#         X_norm[:,:,j] = image_new\n",
    "#     return X_norm"
   ]
  },
  {
   "cell_type": "code",
   "execution_count": null,
   "metadata": {},
   "outputs": [],
   "source": [
    "# z score based on brain mask: per patient\n",
    "def z_score_normalization(X, xmin, xmax):\n",
    "    # X: [xdim, ydim, zdim]\n",
    "    # xmin, xmax: pixel intensities\n",
    "    X_norm = np.empty((X.shape[0], X.shape[1], X.shape[2]))\n",
    "    patient_maskp = []\n",
    "    for j in range(X_norm.shape[2]):\n",
    "        i = sitk.GetImageFromArray(X[:,:,j], isVector = False)\n",
    "        m = sitk.OtsuThreshold(i, xmin, xmax, 200)\n",
    "        image = sitk.GetArrayViewFromImage(i)[:,:]\n",
    "        mask = sitk.GetArrayViewFromImage(m)[:,:]\n",
    "        # mask is represented by white pixels\n",
    "        mask_idx = np.where(mask == mask.max())\n",
    "        if(np.percentile(image, 98) != 0): # consider only non-black images\n",
    "            image_mask = image[mask_idx]\n",
    "            # exclude low and high intensity values\n",
    "            image_maskp = image_mask[(image_mask >= np.percentile(image_mask, 5)) & \n",
    "                                     (image_mask <= np.percentile(image_mask, 95))]\n",
    "            patient_maskp.append(image_maskp)\n",
    "    # get mean and std\n",
    "    patient_maskp = np.concatenate(patient_maskp)\n",
    "    patient_maskp_mean = patient_maskp.mean()\n",
    "    patient_maskp_std = patient_maskp.std()\n",
    "    #if(image_mask_std == 0):\n",
    "    #    print(\"std 0 in image: \", j)\n",
    "    #print(mask_mean, mask_std)\n",
    "    for j in range(X_norm.shape[2]):\n",
    "        X_norm[:,:,j] = (X[:,:,j] - patient_maskp_mean) / patient_maskp_std\n",
    "    return X_norm"
   ]
  },
  {
   "cell_type": "code",
   "execution_count": null,
   "metadata": {
    "scrolled": true
   },
   "outputs": [],
   "source": [
    "# # DWI and ADC\n",
    "# j = 0\n",
    "# X_pat = X_dwi_norm[j,:,:,:,0]\n",
    "# X_pat_norm = z_score_normalization(X_pat, 0, 255)\n",
    "# print(X_pat_norm.shape, X_pat_norm.min(), X_pat_norm.max())\n",
    "# plot_slices(X_pat_norm.reshape((128,128,64,1)), dat.loc[0,:], \"axial\", modality = \"DWI\")"
   ]
  },
  {
   "cell_type": "code",
   "execution_count": null,
   "metadata": {},
   "outputs": [],
   "source": [
    "# normalize for all patients: DWI\n",
    "print(X_dwi_norm.min(), X_dwi_norm.max())\n",
    "X_dwi_normz = np.empty((X_dwi_norm.shape[0], X_dwi_norm.shape[1], X_dwi_norm.shape[2], X_dwi_norm.shape[3]))\n",
    "for i in range(X_dwi_norm.shape[0]):\n",
    "    X_dwi_normz[i] = z_score_normalization(X_dwi_norm[i,:,:,:,0], 0, 255)\n",
    "print(X_dwi_normz.min(), X_dwi_normz.max())"
   ]
  },
  {
   "cell_type": "code",
   "execution_count": null,
   "metadata": {
    "scrolled": true
   },
   "outputs": [],
   "source": [
    "# normalize for all patients: ADC\n",
    "print(X_adc_norm.min(), X_adc_norm.max())\n",
    "X_adc_normz = np.empty((X_adc_norm.shape[0], X_adc_norm.shape[1], X_adc_norm.shape[2], X_adc_norm.shape[3]))\n",
    "for i in range(X_adc_norm.shape[0]):\n",
    "    X_adc_normz[i] = z_score_normalization(X_adc_norm[i,:,:,:,0], 0, 255)\n",
    "print(X_adc_normz.min(), X_adc_normz.max())"
   ]
  },
  {
   "cell_type": "code",
   "execution_count": null,
   "metadata": {},
   "outputs": [],
   "source": [
    "# reshape for CNN input\n",
    "X_dwi_normz = X_dwi_normz.reshape((X_dwi_normz.shape[0], X_dwi_normz.shape[1], X_dwi_normz.shape[2], \n",
    "                                   X_dwi_normz.shape[3], 1))"
   ]
  },
  {
   "cell_type": "code",
   "execution_count": null,
   "metadata": {},
   "outputs": [],
   "source": [
    "X_adc_normz = X_adc_normz.reshape((X_adc_normz.shape[0], X_adc_normz.shape[1], X_adc_normz.shape[2], \n",
    "                                   X_adc_normz.shape[3], 1))"
   ]
  },
  {
   "cell_type": "code",
   "execution_count": null,
   "metadata": {
    "scrolled": true
   },
   "outputs": [],
   "source": [
    "plot_slices(X_dwi_normz[0], dat.loc[0,:], \"axial\", modality = \"DWI\")"
   ]
  },
  {
   "cell_type": "code",
   "execution_count": null,
   "metadata": {
    "scrolled": true
   },
   "outputs": [],
   "source": [
    "plot_slices(X_adc_normz[0], dat.loc[0,:], \"axial\", modality = \"DWI\")"
   ]
  },
  {
   "cell_type": "code",
   "execution_count": null,
   "metadata": {},
   "outputs": [],
   "source": [
    "# Consider two images with different intensities: nur Darstellungsproblem, Verteilung sieht gut aus\n",
    "print(X_dwi_normz.shape)\n",
    "img11 = X_dwi_normz[0,:,:,22,0]\n",
    "img12 = X_dwi_normz[0,:,:,23,0]\n",
    "\n",
    "fig, axs = plt.subplots(2, 2)\n",
    "axs[0,0].imshow(img11, cmap = \"gray\")\n",
    "axs[0,1].imshow(img12, cmap = \"gray\")\n",
    "_ = axs[1,0].hist(img11.flatten(), range=[-10,40])\n",
    "_ = axs[1,1].hist(img12.flatten(), range=[-10,40])"
   ]
  },
  {
   "cell_type": "markdown",
   "metadata": {},
   "source": [
    "#### Color images: CBV, CBF, MTT, TTP, TMAX"
   ]
  },
  {
   "cell_type": "code",
   "execution_count": null,
   "metadata": {
    "scrolled": true
   },
   "outputs": [],
   "source": [
    "## color images\n",
    "#X_pat = X_cbv[6,:,:,:,:]\n",
    "#j = 50\n",
    "#i = sitk.GetImageFromArray(X_pat[:,:,j,:], isVector = False)\n",
    "#m = sitk.OtsuThreshold(i, 0, 255, 200)\n",
    "#image = sitk.GetArrayViewFromImage(i)[:,:,:]\n",
    "#mask = sitk.GetArrayViewFromImage(m)[:,:,:]\n",
    "#print(\"Value of mask: \", np.unique(mask, return_counts=True))\n",
    "#fig, axs = plt.subplots(1, 2)\n",
    "#axs[0].imshow(image)#, cmap = \"gray\")\n",
    "#axs[1].imshow(mask)#, cmap = \"gray\")"
   ]
  },
  {
   "cell_type": "code",
   "execution_count": null,
   "metadata": {
    "scrolled": false
   },
   "outputs": [],
   "source": [
    "## mask is represented by white pixels also in case of the colour images\n",
    "#mask_idx = np.where(mask == 255)\n",
    "#if(mask_idx[0].size == 0): # in case of black images\n",
    "#    # exclude low and high intensity pixel values for mean and std calculation\n",
    "#    image_new = image\n",
    "#else:\n",
    "#    image_mask = image[mask_idx]\n",
    "#    # exclude low and high intensity pixel values for mean and std calculation\n",
    "#    image_maskp = image_mask[(image_mask >= np.percentile(image_mask, 5)) & \n",
    "#                             (image_mask <= np.percentile(image_mask, 95))]\n",
    "#    # get mean and std\n",
    "#    image_mask_mean = image_maskp.mean()\n",
    "#    image_mask_std = image_maskp.std()\n",
    "#    print(image_mask_mean, image_mask_std)\n",
    "#    image_new = (image - image_mask_mean)/image_mask_std\n",
    "#fig, axs = plt.subplots(1, 2)\n",
    "#axs[0].imshow(image)#, cmap = \"gray\")\n",
    "#axs[1].imshow(image_new)#, cmap = \"gray\")"
   ]
  },
  {
   "cell_type": "code",
   "execution_count": null,
   "metadata": {
    "scrolled": true
   },
   "outputs": [],
   "source": [
    "# normalize for all patients per color chanel: CBV\n",
    "X_cbv_normz = np.empty((X_cbv.shape[0], X_cbv.shape[1], X_cbv.shape[2], X_cbv.shape[3], X_cbv.shape[4]))\n",
    "for i in range(X_cbv.shape[0]):\n",
    "    for k in range(3):\n",
    "        X_cbv_normz[i,:,:,:,k] = z_score_normalization(X_cbv[i,:,:,:,k], 0, 255)\n",
    "print(X_cbv_normz.shape, X_cbv_normz.min(), X_cbv_normz.max())\n",
    "plot_slices(X_cbv_normz[0], dat.loc[0,:], \"axial\")"
   ]
  },
  {
   "cell_type": "code",
   "execution_count": null,
   "metadata": {
    "scrolled": true
   },
   "outputs": [],
   "source": [
    "# normalize for all patients per color chanel: cbf\n",
    "X_cbf_normz = np.empty((X_cbf.shape[0], X_cbf.shape[1], X_cbf.shape[2], X_cbf.shape[3], X_cbf.shape[4]))\n",
    "for i in range(X_cbf.shape[0]):\n",
    "    for k in range(3):\n",
    "        X_cbf_normz[i,:,:,:,k] = z_score_normalization(X_cbf[i,:,:,:,k], 0, 255)\n",
    "print(X_cbf_normz.shape, X_cbf_normz.min(), X_cbf_normz.max())\n",
    "plot_slices(X_cbf_normz[0], dat.loc[0,:], \"axial\")"
   ]
  },
  {
   "cell_type": "code",
   "execution_count": null,
   "metadata": {
    "scrolled": true
   },
   "outputs": [],
   "source": [
    "# normalize for all patients per color chanel: mtt\n",
    "X_mtt_normz = np.empty((X_mtt.shape[0], X_mtt.shape[1], X_mtt.shape[2], X_mtt.shape[3], X_mtt.shape[4]))\n",
    "for i in range(X_mtt.shape[0]):\n",
    "    for k in range(3):\n",
    "        X_mtt_normz[i,:,:,:,k] = z_score_normalization(X_mtt[i,:,:,:,k], 0, 255)\n",
    "print(X_mtt_normz.shape, X_mtt_normz.min(), X_mtt_normz.max())\n",
    "plot_slices(X_mtt_normz[0], dat.loc[0,:], \"axial\")"
   ]
  },
  {
   "cell_type": "code",
   "execution_count": null,
   "metadata": {
    "scrolled": true
   },
   "outputs": [],
   "source": [
    "# normalize for all patients per color chanel: ttp\n",
    "X_ttp_normz = np.empty((X_ttp.shape[0], X_ttp.shape[1], X_ttp.shape[2], X_ttp.shape[3], X_ttp.shape[4]))\n",
    "for i in range(X_ttp.shape[0]):\n",
    "    for k in range(3):\n",
    "        X_ttp_normz[i,:,:,:,k] = z_score_normalization(X_ttp[i,:,:,:,k], 0, 255)\n",
    "print(X_ttp_normz.shape, X_ttp_normz.min(), X_ttp_normz.max())\n",
    "plot_slices(X_ttp_normz[0], dat.loc[0,:], \"axial\")"
   ]
  },
  {
   "cell_type": "code",
   "execution_count": null,
   "metadata": {
    "scrolled": true
   },
   "outputs": [],
   "source": [
    "# normalize for all patients per color chanel: tmax\n",
    "X_tmax_normz = np.empty((X_tmax.shape[0], X_tmax.shape[1], X_tmax.shape[2], X_tmax.shape[3], X_tmax.shape[4]))\n",
    "for i in range(X_tmax.shape[0]):\n",
    "    for k in range(3):\n",
    "        X_tmax_normz[i,:,:,:,k] = z_score_normalization(X_tmax[i,:,:,:,k], 0, 255)\n",
    "print(X_tmax_normz.shape, X_tmax_normz.min(), X_tmax_normz.max())\n",
    "plot_slices(X_tmax_normz[0], dat.loc[0,:], \"axial\")"
   ]
  },
  {
   "cell_type": "code",
   "execution_count": null,
   "metadata": {},
   "outputs": [],
   "source": [
    "# save the preprocessed data\n",
    "with h5py.File(DIR + 'hezo/stroke_perfusion/data/data_bern_25_11_2020_preprocessed.h5', \"w\") as h5:\n",
    "    h5.create_dataset(\"X_dwi\", data = X_dwi_normz)\n",
    "    h5.create_dataset(\"X_adc\", data = X_adc_normz)\n",
    "    h5.create_dataset(\"X_cbv\", data = X_cbv_normz)\n",
    "    h5.create_dataset(\"X_cbf\", data = X_cbf_normz)\n",
    "    h5.create_dataset(\"X_mtt\", data = X_mtt_normz)\n",
    "    h5.create_dataset(\"X_ttp\", data = X_ttp_normz)\n",
    "    h5.create_dataset(\"X_tmax\", data = X_tmax_normz)"
   ]
  },
  {
   "cell_type": "code",
   "execution_count": null,
   "metadata": {},
   "outputs": [],
   "source": [
    "## normalize intensities to have pixel values between 0 and 1\n",
    "#def normalize(img):\n",
    "#    lmin = float(img.min())\n",
    "#    lmax = float(img.max())\n",
    "#    return np.floor((img - lmin)/(lmax - lmin))"
   ]
  },
  {
   "cell_type": "code",
   "execution_count": null,
   "metadata": {},
   "outputs": [],
   "source": [
    "# # checked also for the perfusion maps, already done!\n",
    "# X_dwi_normzz = np.empty_like(X_dwi_normz)\n",
    "# X_adc_normzz = np.empty_like(X_adc_normz)\n",
    "# X_cbv_normzz = np.empty_like(X_cbv_normz)\n",
    "# X_cbf_normzz = np.empty_like(X_cbf_normz)\n",
    "# X_mtt_normzz = np.empty_like(X_mtt_normz)\n",
    "# X_ttp_normzz = np.empty_like(X_ttp_normz)\n",
    "# X_tmax_normzz = np.empty_like(X_tmax_normz)\n",
    "# for i in range(X_dwi.shape[0]):\n",
    "#     X_dwi_normzz[i] = normalize(X_dwi_normz[i])\n",
    "#     X_adc_normzz[i] = normalize(X_adc_normz[i])\n",
    "#     X_cbv_normzz[i] = normalize(X_cbv_normz[i])\n",
    "#     X_cbf_normzz[i] = normalize(X_cbf_normz[i])\n",
    "#     X_mtt_normzz[i] = normalize(X_mtt_normz[i])\n",
    "#     X_ttp_normzz[i] = normalize(X_ttp_normz[i])\n",
    "#     X_tmax_normzz[i] = normalize(X_tmax_normz[i])"
   ]
  },
  {
   "cell_type": "code",
   "execution_count": null,
   "metadata": {},
   "outputs": [],
   "source": [
    "#plot_slices(X_adc_normzz[0], dat.loc[0,:], \"axial\")"
   ]
  },
  {
   "cell_type": "code",
   "execution_count": null,
   "metadata": {},
   "outputs": [],
   "source": [
    "#plot_slices(X_dwi_normzz[0], dat.loc[0,:], \"axial\")"
   ]
  },
  {
   "cell_type": "code",
   "execution_count": null,
   "metadata": {},
   "outputs": [],
   "source": [
    "#plot_slices(X_tmax_normz[0], dat.loc[0,:], \"axial\")"
   ]
  }
 ],
 "metadata": {
  "kernelspec": {
   "display_name": "Python 3",
   "language": "python",
   "name": "python3"
  },
  "language_info": {
   "codemirror_mode": {
    "name": "ipython",
    "version": 3
   },
   "file_extension": ".py",
   "mimetype": "text/x-python",
   "name": "python",
   "nbconvert_exporter": "python",
   "pygments_lexer": "ipython3",
   "version": "3.6.9"
  },
  "nteract": {
   "version": "0.22.4"
  }
 },
 "nbformat": 4,
 "nbformat_minor": 2
}
